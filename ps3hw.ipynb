{
 "cells": [
  {
   "cell_type": "markdown",
   "metadata": {},
   "source": [
    "Name: "
   ]
  },
  {
   "cell_type": "markdown",
   "metadata": {},
   "source": [
    "## Problem Set 3 (Homework): Interacting with the Alpha Vantage API using Python libraries"
   ]
  },
  {
   "cell_type": "markdown",
   "metadata": {},
   "source": [
    "Complete each step of boths parts of the notebook. The first part calls the Alpha Vantage API using the HTTP request library. The second part uses the Python Alpha Vantage library. Refer to Part 1 and Part 2 notebooks for code examples and any documentation. \n",
    "\n",
    "Documentation links:\n",
    "<br />Alpha Vantage: https://www.alphavantage.co/documentation/\n",
    "<br />Alpha Vantage Python library: https://alpha-vantage.readthedocs.io/en/latest/#\n",
    "<br />Pandas DataFrame: https://pandas.pydata.org/pandas-docs/stable/reference/frame.html"
   ]
  },
  {
   "cell_type": "markdown",
   "metadata": {},
   "source": [
    "#### Part 1: Alpha Vantage HTTP (RESTful) API call"
   ]
  },
  {
   "cell_type": "markdown",
   "metadata": {},
   "source": [
    "(1) Import the \"requests\" library:\n",
    "(1 point)"
   ]
  },
  {
   "cell_type": "code",
   "execution_count": 37,
   "metadata": {},
   "outputs": [],
   "source": [
    "import requests\n",
    "from alpha_vantage.timeseries import TimeSeries"
   ]
  },
  {
   "cell_type": "markdown",
   "metadata": {},
   "source": [
    "(2) Assign your Alpha Vantage API key to a variable: (1 point)"
   ]
  },
  {
   "cell_type": "code",
   "execution_count": 28,
   "metadata": {},
   "outputs": [],
   "source": [
    "api_key = \"CTL0P41R6O8AG6VD\""
   ]
  },
  {
   "cell_type": "markdown",
   "metadata": {},
   "source": [
    "(3) Assign a stock ticker symbol to a variable: (1 point)"
   ]
  },
  {
   "cell_type": "code",
   "execution_count": 29,
   "metadata": {},
   "outputs": [],
   "source": [
    "ticker = \"AMZN\""
   ]
  },
  {
   "cell_type": "markdown",
   "metadata": {},
   "source": [
    "(4) Make an API call using the Alpha Vantage HTTP API: (5 points)\n",
    "* Compose a URL string and assign it to a variable called link\n",
    "* Format the URL with the above variables used for your API key and stock ticker symbol\n",
    "* Get daily stock data for the last 100 obervations\n",
    "* Retrieve the data as type CSV\n",
    "* Refer to the documentation: https://www.alphavantage.co/documentation/"
   ]
  },
  {
   "cell_type": "code",
   "execution_count": 60,
   "metadata": {},
   "outputs": [
    {
     "name": "stdout",
     "output_type": "stream",
     "text": [
      "https://www.alphavantage.co/query?function=TIME_SERIES_DAILY&symbol=AMZN&apikey=CTL0P41R6O8AG6VD&datatype=csv\n"
     ]
    }
   ],
   "source": [
    "link = f\"https://www.alphavantage.co/query?function=TIME_SERIES_DAILY&symbol={ticker}&apikey={api_key}&datatype=csv\"\n",
    "print(link)"
   ]
  },
  {
   "cell_type": "code",
   "execution_count": 61,
   "metadata": {},
   "outputs": [
    {
     "name": "stdout",
     "output_type": "stream",
     "text": [
      "{\n",
      "    \"Error Message\": \"Invalid API call. Please retry or visit the documentation (https://www.alphavantage.co/documentation/) for TIME_SERIES_DAILY.\"\n",
      "}\n"
     ]
    }
   ],
   "source": [
    "print(AMZN.text)"
   ]
  },
  {
   "cell_type": "markdown",
   "metadata": {},
   "source": [
    "#### Part 2: API call using alpha_vantage Python library\n",
    "Refer to the docs: https://alpha-vantage.readthedocs.io/en/latest/"
   ]
  },
  {
   "cell_type": "markdown",
   "metadata": {},
   "source": [
    "(1) Import the necessary items (2 lines): (2 points)"
   ]
  },
  {
   "cell_type": "code",
   "execution_count": 62,
   "metadata": {},
   "outputs": [],
   "source": [
    "import pandas as pd \n",
    "import matplotlib.pyplot as plt"
   ]
  },
  {
   "cell_type": "markdown",
   "metadata": {},
   "source": [
    "(2) Create an instance of the TimeSeries class: (2 points)\n",
    "* Use the API key variable assigned in Part 1\n",
    "* Import the data as a pandas dataframe"
   ]
  },
  {
   "cell_type": "code",
   "execution_count": 63,
   "metadata": {},
   "outputs": [],
   "source": [
    "ts = TimeSeries(key=api_key,output_format='pandas')"
   ]
  },
  {
   "cell_type": "markdown",
   "metadata": {},
   "source": [
    "(3) Retrieve daily stock price data by calling the API with the appropriate \"get\" method: (5 point)\n",
    "* Use the ticket symbol variable you used in Part 1 as an argument in the get method\n",
    "* Get the last 100 obervations\n",
    "* Store the time series data and the meta data into two separate variables on the same line\n",
    "* Refer to the docs: https://alpha-vantage.readthedocs.io/en/latest/genindex.html"
   ]
  },
  {
   "cell_type": "code",
   "execution_count": 64,
   "metadata": {},
   "outputs": [],
   "source": [
    "data, meta_data = ts.get_daily(symbol='AMZN', outputsize='compact')"
   ]
  },
  {
   "cell_type": "markdown",
   "metadata": {},
   "source": [
    "(4) Print the dataframe (1 point)"
   ]
  },
  {
   "cell_type": "code",
   "execution_count": 65,
   "metadata": {},
   "outputs": [
    {
     "name": "stdout",
     "output_type": "stream",
     "text": [
      "            1. open    2. high     3. low  4. close  5. volume\n",
      "date                                                          \n",
      "2019-05-09  1900.00  1909.4000  1876.0000   1899.87  5308300.0\n",
      "2019-05-10  1898.00  1903.7900  1856.0000   1889.98  5718000.0\n",
      "2019-05-13  1836.56  1846.5350  1818.0000   1822.68  5783400.0\n",
      "2019-05-14  1839.50  1852.4400  1815.7500   1840.12  4629100.0\n",
      "2019-05-15  1827.95  1874.4270  1823.0000   1871.15  4692600.0\n",
      "2019-05-16  1885.94  1917.5100  1882.2900   1907.57  4707800.0\n",
      "2019-05-17  1893.05  1910.5300  1867.3300   1869.00  4736600.0\n",
      "2019-05-20  1852.69  1867.7800  1835.5400   1858.97  3798200.0\n",
      "2019-05-21  1874.79  1879.0000  1846.2825   1857.52  4005100.0\n",
      "2019-05-22  1851.78  1871.4850  1851.0000   1859.68  2936600.0\n",
      "2019-05-23  1836.59  1844.0000  1804.2000   1815.48  4424300.0\n",
      "2019-05-24  1835.89  1841.7600  1817.8510   1823.28  3369700.0\n",
      "2019-05-28  1832.75  1849.2922  1827.3500   1836.43  3200000.0\n",
      "2019-05-29  1823.12  1830.0000  1807.5330   1819.19  4279000.0\n",
      "2019-05-30  1825.49  1829.4700  1807.8250   1816.32  3146900.0\n",
      "2019-05-31  1790.01  1795.5850  1772.7030   1775.07  4618800.0\n",
      "2019-06-03  1760.01  1766.2900  1672.0000   1692.69  9098700.0\n",
      "2019-06-04  1699.24  1730.9691  1680.8900   1729.56  5679100.0\n",
      "2019-06-05  1749.60  1752.0000  1715.2510   1738.50  4239800.0\n",
      "2019-06-06  1737.71  1760.0000  1726.1300   1754.36  3689300.0\n",
      "2019-06-07  1763.70  1806.2540  1759.4900   1804.03  4808200.0\n",
      "2019-06-10  1822.00  1884.8700  1818.0000   1860.63  5371000.0\n",
      "2019-06-11  1883.25  1893.7000  1858.0000   1863.70  4042700.0\n",
      "2019-06-12  1853.98  1865.0000  1844.3800   1855.32  2678300.0\n",
      "2019-06-13  1866.72  1883.0900  1862.2200   1870.30  2795800.0\n",
      "2019-06-14  1864.00  1876.0000  1859.0000   1869.67  2851200.0\n",
      "2019-06-17  1876.50  1895.6880  1875.4237   1886.03  2634300.0\n",
      "2019-06-18  1901.35  1921.6700  1899.7900   1901.37  3895700.0\n",
      "2019-06-19  1907.84  1919.5810  1892.4700   1908.79  2895300.0\n",
      "2019-06-20  1933.33  1935.2000  1905.8000   1918.19  3217200.0\n",
      "...             ...        ...        ...       ...        ...\n",
      "2019-08-19  1818.08  1826.0000  1812.6100   1816.12  2816300.0\n",
      "2019-08-20  1814.50  1816.8199  1799.8800   1801.38  1929500.0\n",
      "2019-08-21  1819.39  1829.5800  1815.0000   1823.54  2031800.0\n",
      "2019-08-22  1828.00  1829.4100  1800.1000   1804.66  2653500.0\n",
      "2019-08-23  1793.03  1804.9000  1745.2300   1749.62  5270800.0\n",
      "2019-08-26  1766.91  1770.0000  1743.5100   1768.87  3080000.0\n",
      "2019-08-27  1775.73  1779.4000  1746.6801   1761.83  3019700.0\n",
      "2019-08-28  1755.00  1767.8600  1744.0500   1764.25  2419700.0\n",
      "2019-08-29  1783.00  1798.5500  1777.2500   1786.40  3015100.0\n",
      "2019-08-30  1797.49  1799.7400  1764.5699   1776.29  3058700.0\n",
      "2019-09-03  1770.00  1800.8000  1768.0000   1789.84  3543000.0\n",
      "2019-09-04  1805.00  1807.6300  1796.2300   1800.62  2324100.0\n",
      "2019-09-05  1821.95  1842.0000  1815.5800   1840.72  3310800.0\n",
      "2019-09-06  1838.22  1840.6500  1826.4000   1833.51  2496900.0\n",
      "2019-09-09  1841.00  1850.0000  1824.6100   1831.35  2999500.0\n",
      "2019-09-10  1822.75  1825.8101  1805.3400   1820.55  2613900.0\n",
      "2019-09-11  1812.14  1833.4200  1809.0800   1822.99  2432800.0\n",
      "2019-09-12  1837.63  1853.6600  1834.2800   1843.55  2823500.0\n",
      "2019-09-13  1842.01  1846.1200  1835.1700   1839.34  1971300.0\n",
      "2019-09-16  1824.02  1825.6899  1800.2000   1807.84  3675500.0\n",
      "2019-09-17  1807.08  1823.9900  1804.1000   1822.55  1982400.0\n",
      "2019-09-18  1817.04  1822.0601  1795.5000   1817.46  2505600.0\n",
      "2019-09-19  1821.02  1832.5699  1817.9000   1821.50  2031500.0\n",
      "2019-09-20  1821.71  1830.6300  1780.9200   1794.16  5341900.0\n",
      "2019-09-23  1777.00  1792.7000  1767.3199   1785.30  2922300.0\n",
      "2019-09-24  1790.61  1795.7100  1735.5500   1741.61  4616000.0\n",
      "2019-09-25  1747.36  1773.0000  1723.0000   1768.33  3493200.0\n",
      "2019-09-26  1762.79  1763.3700  1731.5000   1739.84  3536800.0\n",
      "2019-09-27  1748.00  1749.1200  1713.8199   1725.45  3907200.0\n",
      "2019-09-30  1726.99  1737.4600  1709.3199   1735.91  2392874.0\n",
      "\n",
      "[100 rows x 5 columns]\n"
     ]
    }
   ],
   "source": [
    "print(data)"
   ]
  },
  {
   "cell_type": "markdown",
   "metadata": {},
   "source": [
    "(BONUS POINT) Print just the highest closing price of the last 100 obervations:\n",
    "* Refer to the pandas docs: https://pandas.pydata.org/pandas-docs/stable/"
   ]
  },
  {
   "cell_type": "code",
   "execution_count": null,
   "metadata": {},
   "outputs": [],
   "source": [
    "print"
   ]
  }
 ],
 "metadata": {
  "kernelspec": {
   "display_name": "Python 3",
   "language": "python",
   "name": "python3"
  },
  "language_info": {
   "codemirror_mode": {
    "name": "ipython",
    "version": 3
   },
   "file_extension": ".py",
   "mimetype": "text/x-python",
   "name": "python",
   "nbconvert_exporter": "python",
   "pygments_lexer": "ipython3",
   "version": "3.7.3"
  }
 },
 "nbformat": 4,
 "nbformat_minor": 2
}
